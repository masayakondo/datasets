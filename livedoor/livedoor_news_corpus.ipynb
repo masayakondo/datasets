{
 "cells": [
  {
   "cell_type": "markdown",
   "metadata": {},
   "source": [
    "# livedoor ニュースコーパス\n",
    "\n",
    "以下からデータをダウンロードできる\n",
    "- https://www.rondhuit.com/download.html\n",
    "\n",
    "\n",
    "「ldcc-20140209.tar.gz」を見つけてダウンロード後、以下のコマンドで解凍\n",
    "\n",
    "```\n",
    "tar xvf ldcc-20140209.tar.gz\n",
    "```\n",
    "\n",
    "解答後、`text/`というフォルダができるので、`text/`フォルダと同じ階層で以下を実行する"
   ]
  },
  {
   "cell_type": "code",
   "execution_count": 20,
   "metadata": {},
   "outputs": [
    {
     "name": "stdout",
     "output_type": "stream",
     "text": [
      "['movie-enter', 'it-life-hack', 'kaden-channel', 'topic-news', 'livedoor-homme', 'peachy', 'sports-watch', 'dokujo-tsushin', 'smax']\n"
     ]
    }
   ],
   "source": [
    "import os\n",
    "import linecache\n",
    "from glob import glob\n",
    "import pandas as pd\n",
    "import pickle\n",
    "\n",
    "# フォルダ名をカテゴリとして取得\n",
    "categories = [name for name in os.listdir(\"text\") if os.path.isdir(\"text/\" + name)]\n",
    "print(categories)\n",
    "\n",
    "datasets = []\n",
    "for cat in categories:\n",
    "    path = \"text/\" + cat + \"/*.txt\"\n",
    "    files = glob(path)\n",
    "    for text_name in files:\n",
    "        title = linecache.getline(text_name, 3)\n",
    "        with open(text_name, 'r', encoding='utf-8') as f:\n",
    "            body = f.read()\n",
    "        row = [title, body, cat]\n",
    "        datasets.append(row)\n",
    "df = pd.DataFrame(datasets, columns=['title', 'body', 'category'])"
   ]
  },
  {
   "cell_type": "code",
   "execution_count": 21,
   "metadata": {},
   "outputs": [],
   "source": [
    "with open('livedoor.pickle', 'wb') as w:\n",
    "    pickle.dump(df ,w)"
   ]
  }
 ],
 "metadata": {
  "kernelspec": {
   "display_name": "Python 3",
   "language": "python",
   "name": "python3"
  },
  "language_info": {
   "codemirror_mode": {
    "name": "ipython",
    "version": 3
   },
   "file_extension": ".py",
   "mimetype": "text/x-python",
   "name": "python",
   "nbconvert_exporter": "python",
   "pygments_lexer": "ipython3",
   "version": "3.7.3"
  }
 },
 "nbformat": 4,
 "nbformat_minor": 2
}
